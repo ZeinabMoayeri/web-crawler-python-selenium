{
 "cells": [
  {
   "cell_type": "markdown",
   "metadata": {
    "id": "GbCE8OcvKQYK"
   },
   "source": [
    "\n",
    "# Extract All data from HTML page\n"
   ]
  },
  {
   "cell_type": "code",
   "execution_count": null,
   "metadata": {
    "id": "MK2sEgiUcU1I"
   },
   "outputs": [],
   "source": [
    "from bs4 import BeautifulSoup\n",
    "\n",
    "file = open(\"diza_gallery.html\", \"r\")\n",
    "contents = file.read()\n",
    "\n",
    "soup = BeautifulSoup(contents)\n",
    "formatted_html = soup.prettify()\n",
    "\n",
    "# Print the formatted HTML code\n",
    "# print(formatted_html)"
   ]
  },
  {
   "cell_type": "code",
   "execution_count": null,
   "metadata": {
    "id": "4ZA3qetVeBA2"
   },
   "outputs": [],
   "source": [
    "replaced_string = formatted_html.split(\"/a\")"
   ]
  },
  {
   "cell_type": "code",
   "execution_count": null,
   "metadata": {
    "colab": {
     "base_uri": "https://localhost:8080/"
    },
    "id": "rTjufL76eago",
    "outputId": "8e216a03-4d90-4870-e185-10cb8cbdbe69"
   },
   "outputs": [
    {
     "data": {
      "text/plain": [
       "2054"
      ]
     },
     "execution_count": 4,
     "metadata": {},
     "output_type": "execute_result"
    }
   ],
   "source": [
    "len(replaced_string)"
   ]
  },
  {
   "cell_type": "code",
   "execution_count": null,
   "metadata": {
    "id": "YCRPluzlfoE8"
   },
   "outputs": [],
   "source": [
    "replaced_string = replaced_string[154:]"
   ]
  },
  {
   "cell_type": "code",
   "execution_count": null,
   "metadata": {
    "id": "9TKwSZIlgnzH"
   },
   "outputs": [],
   "source": [
    "replaced_string = replaced_string[:1885]"
   ]
  },
  {
   "cell_type": "code",
   "execution_count": null,
   "metadata": {
    "colab": {
     "base_uri": "https://localhost:8080/"
    },
    "id": "-bFmN4tNjzk3",
    "outputId": "c6d82551-55a8-434d-a5d9-d9a2f1c1f33a"
   },
   "outputs": [
    {
     "data": {
      "text/plain": [
       "1885"
      ]
     },
     "execution_count": 62,
     "metadata": {},
     "output_type": "execute_result"
    }
   ],
   "source": [
    "len(replaced_string)"
   ]
  },
  {
   "cell_type": "markdown",
   "metadata": {
    "id": "0ZmeBXL9zM4b"
   },
   "source": [
    "## names export"
   ]
  },
  {
   "cell_type": "code",
   "execution_count": null,
   "metadata": {
    "colab": {
     "base_uri": "https://localhost:8080/"
    },
    "id": "zei62urskaV9",
    "outputId": "370ea10d-eb6b-41c6-a3e5-f0b6bc56011d"
   },
   "outputs": [
    {
     "name": "stderr",
     "output_type": "stream",
     "text": [
      "100%|██████████| 1885/1885 [00:00<00:00, 71807.23it/s]\n"
     ]
    }
   ],
   "source": [
    "from tqdm import tqdm\n",
    "names = []\n",
    "for block in tqdm(replaced_string):\n",
    "    block = \" \".join(block.split())\n",
    "    block = block.split('\"')\n",
    "    try:\n",
    "        name_number = block.index(\"> <img alt=\")\n",
    "        name_number += 1\n",
    "        names.append(block[name_number])\n",
    "    except:\n",
    "        names.append(None)\n"
   ]
  },
  {
   "cell_type": "code",
   "execution_count": null,
   "metadata": {
    "colab": {
     "base_uri": "https://localhost:8080/"
    },
    "id": "B5lRvh3Cjz_3",
    "outputId": "83bee335-601e-4c5d-8825-8b94393161f8"
   },
   "outputs": [
    {
     "data": {
      "text/plain": [
       "1885"
      ]
     },
     "execution_count": 75,
     "metadata": {},
     "output_type": "execute_result"
    }
   ],
   "source": [
    "len(names)\n"
   ]
  },
  {
   "cell_type": "code",
   "execution_count": null,
   "metadata": {
    "colab": {
     "base_uri": "https://localhost:8080/"
    },
    "id": "kk8Mwdkz0XTC",
    "outputId": "7a8c3705-d4fd-461d-81e3-0eb3f7cf9992"
   },
   "outputs": [
    {
     "data": {
      "text/plain": [
       "48"
      ]
     },
     "execution_count": 83,
     "metadata": {},
     "output_type": "execute_result"
    }
   ],
   "source": [
    "names.count(None)"
   ]
  },
  {
   "cell_type": "markdown",
   "metadata": {
    "id": "jbUBIjHHzZxt"
   },
   "source": [
    "### links export"
   ]
  },
  {
   "cell_type": "code",
   "execution_count": null,
   "metadata": {
    "colab": {
     "base_uri": "https://localhost:8080/"
    },
    "id": "uNxAORXljz6r",
    "outputId": "4d7e1289-470b-46bc-fe8b-0039c59aab3f"
   },
   "outputs": [
    {
     "name": "stderr",
     "output_type": "stream",
     "text": [
      "100%|██████████| 1885/1885 [00:00<00:00, 43449.36it/s]\n"
     ]
    }
   ],
   "source": [
    "from tqdm import tqdm\n",
    "links = []\n",
    "for block in tqdm(replaced_string):\n",
    "    block = \" \".join(block.split())\n",
    "    block = block.split('\"')\n",
    "    try:\n",
    "        number = block.index(\" href=\")\n",
    "        number += 1\n",
    "        links.append(block[number])\n",
    "    except:\n",
    "        links.append(None)"
   ]
  },
  {
   "cell_type": "code",
   "execution_count": null,
   "metadata": {
    "colab": {
     "base_uri": "https://localhost:8080/"
    },
    "id": "EaZSEirMz4eR",
    "outputId": "96b1f660-18af-4df5-c2c3-d435fea4659f"
   },
   "outputs": [
    {
     "data": {
      "text/plain": [
       "1885"
      ]
     },
     "execution_count": 80,
     "metadata": {},
     "output_type": "execute_result"
    }
   ],
   "source": [
    "len(links)"
   ]
  },
  {
   "cell_type": "code",
   "execution_count": null,
   "metadata": {
    "id": "qSjtZCEDz4ZO"
   },
   "outputs": [],
   "source": [
    "links"
   ]
  },
  {
   "cell_type": "code",
   "execution_count": null,
   "metadata": {
    "colab": {
     "base_uri": "https://localhost:8080/"
    },
    "id": "LBpZhEp7z4Vv",
    "outputId": "ad7915f9-5a9e-4116-ea69-19dafd942a11"
   },
   "outputs": [
    {
     "data": {
      "text/plain": [
       "48"
      ]
     },
     "execution_count": 82,
     "metadata": {},
     "output_type": "execute_result"
    }
   ],
   "source": [
    "links.count(None)"
   ]
  },
  {
   "cell_type": "code",
   "execution_count": null,
   "metadata": {
    "id": "KW_T3203z4P0"
   },
   "outputs": [],
   "source": []
  },
  {
   "cell_type": "markdown",
   "metadata": {
    "id": "QGK40AWr0jOX"
   },
   "source": [
    "## designer export"
   ]
  },
  {
   "cell_type": "code",
   "execution_count": null,
   "metadata": {
    "colab": {
     "base_uri": "https://localhost:8080/"
    },
    "id": "78P7ObEZ0r8v",
    "outputId": "ef4e9a8c-a511-4194-eb79-96c79b72cf6c"
   },
   "outputs": [
    {
     "name": "stderr",
     "output_type": "stream",
     "text": [
      "100%|██████████| 1885/1885 [00:00<00:00, 59282.45it/s]\n"
     ]
    }
   ],
   "source": [
    "from tqdm import tqdm\n",
    "brands = []\n",
    "for block in tqdm(replaced_string):\n",
    "    block = \" \".join(block.split())\n",
    "    block = block.split('\"')\n",
    "    try:\n",
    "        number = block.index(\"catpreviewitembar\")\n",
    "        number += 1\n",
    "        brand = block[number][7:-18]\n",
    "        brands.append(brand)\n",
    "    except:\n",
    "        brands.append(None)\n",
    "\n"
   ]
  },
  {
   "cell_type": "code",
   "execution_count": null,
   "metadata": {
    "colab": {
     "base_uri": "https://localhost:8080/"
    },
    "id": "qZKECCgp6980",
    "outputId": "279a8e9c-80e7-46e3-b7f9-939da666b7a6"
   },
   "outputs": [
    {
     "data": {
      "text/plain": [
       "1885"
      ]
     },
     "execution_count": 121,
     "metadata": {},
     "output_type": "execute_result"
    }
   ],
   "source": [
    "len(brands)"
   ]
  },
  {
   "cell_type": "code",
   "execution_count": null,
   "metadata": {
    "colab": {
     "base_uri": "https://localhost:8080/"
    },
    "id": "fOIYTnCd0r6D",
    "outputId": "0da51cc7-8aff-4759-f47a-1234c13ee55e"
   },
   "outputs": [
    {
     "data": {
      "text/plain": [
       "48"
      ]
     },
     "execution_count": 120,
     "metadata": {},
     "output_type": "execute_result"
    }
   ],
   "source": [
    "brands.count(None)"
   ]
  },
  {
   "cell_type": "code",
   "execution_count": null,
   "metadata": {
    "id": "F2FzQ0Dx0r3D"
   },
   "outputs": [],
   "source": []
  },
  {
   "cell_type": "markdown",
   "metadata": {
    "id": "q4RFOCLY90OM"
   },
   "source": [
    "## price export"
   ]
  },
  {
   "cell_type": "code",
   "execution_count": null,
   "metadata": {
    "colab": {
     "base_uri": "https://localhost:8080/"
    },
    "id": "ZkICjIrG0rxs",
    "outputId": "565fe7d3-57ba-4aff-8849-b4c104e9245e"
   },
   "outputs": [
    {
     "name": "stderr",
     "output_type": "stream",
     "text": [
      "100%|██████████| 1885/1885 [00:00<00:00, 67574.32it/s]\n"
     ]
    }
   ],
   "source": [
    "from tqdm import tqdm\n",
    "prices = []\n",
    "for block in tqdm(replaced_string):\n",
    "    block = \" \".join(block.split())\n",
    "    block = block.split('\"')\n",
    "    try:\n",
    "        number = block.index(\"catpreviewprice\")\n",
    "        number += 1\n",
    "        price = block[number].split(' ')[2] + block[number].split(' ')[3]\n",
    "        prices.append(price)\n",
    "    except:\n",
    "        prices.append(None)\n",
    "\n",
    "\n"
   ]
  },
  {
   "cell_type": "code",
   "execution_count": null,
   "metadata": {
    "colab": {
     "base_uri": "https://localhost:8080/"
    },
    "id": "oFgJhmR10r0l",
    "outputId": "c815b7b0-7444-419b-a93e-c9e4bb447091"
   },
   "outputs": [
    {
     "data": {
      "text/plain": [
       "1885"
      ]
     },
     "execution_count": 138,
     "metadata": {},
     "output_type": "execute_result"
    }
   ],
   "source": [
    "len(prices)"
   ]
  },
  {
   "cell_type": "code",
   "execution_count": null,
   "metadata": {
    "colab": {
     "base_uri": "https://localhost:8080/"
    },
    "id": "uF1HeZUP-d50",
    "outputId": "81a58ac3-5c08-4002-e38d-7ea26e5dfe60"
   },
   "outputs": [
    {
     "data": {
      "text/plain": [
       "48"
      ]
     },
     "execution_count": 139,
     "metadata": {},
     "output_type": "execute_result"
    }
   ],
   "source": [
    "prices.count(None)"
   ]
  },
  {
   "cell_type": "code",
   "execution_count": null,
   "metadata": {
    "colab": {
     "base_uri": "https://localhost:8080/"
    },
    "id": "9HY_o43H-d3E",
    "outputId": "1e785fe5-4802-4870-a141-573e6f776c68"
   },
   "outputs": [
    {
     "name": "stderr",
     "output_type": "stream",
     "text": [
      "100%|██████████| 1885/1885 [00:00<00:00, 71826.15it/s]\n"
     ]
    }
   ],
   "source": [
    "from tqdm import tqdm\n",
    "names2 = []\n",
    "for block in tqdm(replaced_string):\n",
    "    block = \" \".join(block.split())\n",
    "    block = block.split('\"')\n",
    "    try:\n",
    "        number = block.index(\"catpreviewprice\")\n",
    "        number -= 1\n",
    "        name2 = block[number].split('<')[0][2:-1]\n",
    "        names2.append(name2)\n",
    "    except:\n",
    "        names2.append(None)\n",
    "\n"
   ]
  },
  {
   "cell_type": "code",
   "execution_count": null,
   "metadata": {
    "colab": {
     "base_uri": "https://localhost:8080/"
    },
    "id": "fh4ipUlP-dy-",
    "outputId": "65109f29-eb40-495d-bcde-8ea9ef493a72"
   },
   "outputs": [
    {
     "data": {
      "text/plain": [
       "1885"
      ]
     },
     "execution_count": 141,
     "metadata": {},
     "output_type": "execute_result"
    }
   ],
   "source": [
    "len(names2)"
   ]
  },
  {
   "cell_type": "code",
   "execution_count": null,
   "metadata": {
    "colab": {
     "base_uri": "https://localhost:8080/"
    },
    "id": "shMPRxFOAJiX",
    "outputId": "630933b2-7c99-4502-a2f8-54c10ed51dc3"
   },
   "outputs": [
    {
     "data": {
      "text/plain": [
       "48"
      ]
     },
     "execution_count": 143,
     "metadata": {},
     "output_type": "execute_result"
    }
   ],
   "source": [
    "names2.count(None)"
   ]
  },
  {
   "cell_type": "markdown",
   "metadata": {
    "id": "QA8mp4TEzR1o"
   },
   "source": [
    "## -------------------"
   ]
  },
  {
   "cell_type": "code",
   "execution_count": null,
   "metadata": {
    "id": "bdSGkPHbzDyS"
   },
   "outputs": [],
   "source": [
    "all_data = {}\n",
    "all_data['Names'] = names\n",
    "all_data['Links'] = links\n",
    "all_data['Brands'] = brands\n",
    "all_data['Prices'] = prices\n",
    "all_data['Names2'] = names2"
   ]
  },
  {
   "cell_type": "code",
   "execution_count": null,
   "metadata": {
    "id": "NqJxV9uUzDwH"
   },
   "outputs": [],
   "source": [
    "import pandas as pd\n",
    "df = pd.DataFrame(all_data)\n",
    "df.to_csv('products_extract_with_detail.csv')"
   ]
  },
  {
   "cell_type": "markdown",
   "metadata": {
    "id": "pgp1HT2wAkm6"
   },
   "source": []
  },
  {
   "cell_type": "markdown",
   "metadata": {
    "id": "KS025AtKKegL"
   },
   "source": [
    "\n"
   ]
  },
  {
   "cell_type": "code",
   "execution_count": null,
   "metadata": {
    "id": "gi0PBCLn2oNn"
   },
   "outputs": [],
   "source": []
  },
  {
   "cell_type": "code",
   "execution_count": null,
   "metadata": {
    "id": "kpT1AoEtKlRO"
   },
   "outputs": [],
   "source": []
  },
  {
   "cell_type": "code",
   "execution_count": null,
   "metadata": {
    "colab": {
     "base_uri": "https://localhost:8080/"
    },
    "id": "fWkQUy_N3IbZ",
    "outputId": "d6975caa-5be6-4e0b-be28-61240776b51b"
   },
   "outputs": [],
   "source": []
  },
  {
   "cell_type": "code",
   "execution_count": null,
   "metadata": {
    "colab": {
     "base_uri": "https://localhost:8080/"
    },
    "id": "jTdIAvw7iNig",
    "outputId": "cc6def0d-6851-48a1-c2df-5b88d7310b08"
   },
   "outputs": [],
   "source": [
    "\n"
   ]
  },
  {
   "cell_type": "code",
   "execution_count": null,
   "metadata": {
    "colab": {
     "base_uri": "https://localhost:8080/"
    },
    "id": "oFTWDKH1o1a-",
    "outputId": "5b7c20f0-2150-429e-f800-c87ae6355370"
   },
   "outputs": [],
   "source": []
  },
  {
   "cell_type": "code",
   "execution_count": null,
   "metadata": {
    "colab": {
     "base_uri": "https://localhost:8080/"
    },
    "id": "oqAK7y5WpHNc",
    "outputId": "9fcc0798-f377-4783-9b9d-aab355157f4b"
   },
   "outputs": [],
   "source": []
  },
  {
   "cell_type": "code",
   "execution_count": null,
   "metadata": {
    "colab": {
     "base_uri": "https://localhost:8080/"
    },
    "id": "b-9ywAJUpHKM",
    "outputId": "b6dc1bc4-b90d-4856-d3ad-291ce699f8ca",
    "scrolled": false
   },
   "outputs": [],
   "source": []
  },
  {
   "cell_type": "code",
   "execution_count": null,
   "metadata": {
    "colab": {
     "base_uri": "https://localhost:8080/",
     "height": 362
    },
    "id": "QN8p8RTrpHHW",
    "outputId": "6b5fb315-3c56-4cb5-d93e-213f18533184"
   },
   "outputs": [],
   "source": []
  },
  {
   "cell_type": "code",
   "execution_count": null,
   "metadata": {
    "id": "wYROXVylpHEU"
   },
   "outputs": [],
   "source": []
  },
  {
   "cell_type": "code",
   "execution_count": null,
   "metadata": {
    "id": "IOt00AB4pHBF"
   },
   "outputs": [],
   "source": []
  },
  {
   "cell_type": "code",
   "execution_count": null,
   "metadata": {
    "colab": {
     "base_uri": "https://localhost:8080/",
     "height": 399
    },
    "id": "ZoxtmxgELq6G",
    "outputId": "c92765ef-210c-4ab8-db13-109f099f66f5"
   },
   "outputs": [],
   "source": []
  },
  {
   "cell_type": "code",
   "execution_count": null,
   "metadata": {
    "id": "uEe5aEsUFfD8"
   },
   "outputs": [],
   "source": []
  },
  {
   "cell_type": "code",
   "execution_count": null,
   "metadata": {
    "id": "nhX-o5ZBFbA1"
   },
   "outputs": [],
   "source": []
  },
  {
   "cell_type": "code",
   "execution_count": null,
   "metadata": {
    "id": "lSPLL1NpLAEh"
   },
   "outputs": [],
   "source": []
  },
  {
   "cell_type": "code",
   "execution_count": null,
   "metadata": {
    "id": "-kUOk8--Asq-"
   },
   "outputs": [],
   "source": []
  },
  {
   "cell_type": "code",
   "execution_count": null,
   "metadata": {
    "id": "XIQ49OVz8vAY"
   },
   "outputs": [],
   "source": []
  },
  {
   "cell_type": "code",
   "execution_count": null,
   "metadata": {
    "id": "v58_CFduBNOl"
   },
   "outputs": [],
   "source": []
  },
  {
   "cell_type": "code",
   "execution_count": null,
   "metadata": {
    "colab": {
     "base_uri": "https://localhost:8080/"
    },
    "id": "kWFO16ZVmz0u",
    "outputId": "0fbb4bf5-4814-4132-96eb-933fd88410e0"
   },
   "outputs": [],
   "source": []
  },
  {
   "cell_type": "code",
   "execution_count": null,
   "metadata": {
    "colab": {
     "base_uri": "https://localhost:8080/"
    },
    "id": "FnyII70q8z0q",
    "outputId": "d6d05658-2462-4ba3-81db-b9b26a6eaba7"
   },
   "outputs": [],
   "source": []
  },
  {
   "cell_type": "code",
   "execution_count": null,
   "metadata": {
    "id": "AGC0tWtFnQf0"
   },
   "outputs": [],
   "source": []
  },
  {
   "cell_type": "code",
   "execution_count": null,
   "metadata": {
    "colab": {
     "base_uri": "https://localhost:8080/"
    },
    "id": "Nykibclapc2R",
    "outputId": "46cc66b3-27fc-48a4-833d-dca247677d03"
   },
   "outputs": [],
   "source": []
  },
  {
   "cell_type": "code",
   "execution_count": null,
   "metadata": {
    "colab": {
     "base_uri": "https://localhost:8080/",
     "height": 128
    },
    "id": "i1ae4M6wvRPa",
    "outputId": "cb3ecb6f-e4e6-43dd-bda1-57165484d000"
   },
   "outputs": [],
   "source": []
  },
  {
   "cell_type": "code",
   "execution_count": null,
   "metadata": {
    "colab": {
     "base_uri": "https://localhost:8080/",
     "height": 209
    },
    "id": "wsGY28dltjxR",
    "outputId": "f6956947-e4b7-405f-dc38-4125bcf4d288"
   },
   "outputs": [],
   "source": []
  },
  {
   "cell_type": "code",
   "execution_count": null,
   "metadata": {
    "id": "nPwsc3oRuGdO"
   },
   "outputs": [],
   "source": []
  },
  {
   "cell_type": "code",
   "execution_count": null,
   "metadata": {
    "colab": {
     "base_uri": "https://localhost:8080/"
    },
    "id": "8Dv-yf5Pl76W",
    "outputId": "8cdba865-c7f1-4b64-9e72-063360c9e2cc"
   },
   "outputs": [],
   "source": []
  },
  {
   "cell_type": "code",
   "execution_count": null,
   "metadata": {
    "id": "j61LzRSyl9j6"
   },
   "outputs": [],
   "source": []
  }
 ],
 "metadata": {
  "colab": {
   "collapsed_sections": [
    "GbCE8OcvKQYK"
   ],
   "provenance": []
  },
  "kernelspec": {
   "display_name": "Python 3 (ipykernel)",
   "language": "python",
   "name": "python3"
  },
  "language_info": {
   "codemirror_mode": {
    "name": "ipython",
    "version": 3
   },
   "file_extension": ".py",
   "mimetype": "text/x-python",
   "name": "python",
   "nbconvert_exporter": "python",
   "pygments_lexer": "ipython3",
   "version": "3.10.6"
  }
 },
 "nbformat": 4,
 "nbformat_minor": 1
}
